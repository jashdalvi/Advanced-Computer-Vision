{
 "cells": [
  {
   "cell_type": "code",
   "execution_count": 1,
   "metadata": {},
   "outputs": [],
   "source": [
    "%matplotlib inline\n",
    "import matplotlib.pyplot as plt\n",
    "import numpy as np\n",
    "from tensorflow.keras.models import Sequential\n",
    "from tensorflow.keras.layers import Dense,Dropout,Conv2D,MaxPooling2D,Flatten\n",
    "from tensorflow.keras.datasets import boston_housing,fashion_mnist,cifar10\n",
    "from tensorflow.keras.utils import to_categorical"
   ]
  },
  {
   "cell_type": "code",
   "execution_count": 2,
   "metadata": {},
   "outputs": [
    {
     "name": "stdout",
     "output_type": "stream",
     "text": [
      "Downloading data from https://storage.googleapis.com/tensorflow/tf-keras-datasets/boston_housing.npz\n",
      "57344/57026 [==============================] - 0s 0us/step\n"
     ]
    }
   ],
   "source": [
    "(X_train,y_train),(X_test,y_test) = boston_housing.load_data()"
   ]
  },
  {
   "cell_type": "code",
   "execution_count": 3,
   "metadata": {},
   "outputs": [],
   "source": [
    "model = Sequential()\n",
    "model.add(Dense(1,input_shape = (X_train.shape[1],),activation = \"linear\"))"
   ]
  },
  {
   "cell_type": "code",
   "execution_count": 4,
   "metadata": {},
   "outputs": [
    {
     "name": "stdout",
     "output_type": "stream",
     "text": [
      "Model: \"sequential\"\n",
      "_________________________________________________________________\n",
      "Layer (type)                 Output Shape              Param #   \n",
      "=================================================================\n",
      "dense (Dense)                (None, 1)                 14        \n",
      "=================================================================\n",
      "Total params: 14\n",
      "Trainable params: 14\n",
      "Non-trainable params: 0\n",
      "_________________________________________________________________\n"
     ]
    }
   ],
   "source": [
    "model.compile(optimizer='rmsprop',loss = 'mse',metrics = ['mse','mae'])\n",
    "model.summary()"
   ]
  },
  {
   "cell_type": "code",
   "execution_count": 5,
   "metadata": {},
   "outputs": [
    {
     "name": "stdout",
     "output_type": "stream",
     "text": [
      "Epoch 1/100\n",
      "101/101 [==============================] - 2s 1ms/step - loss: 37070.0178 - mse: 37070.0178 - mae: 183.6470\n",
      "Epoch 2/100\n",
      "101/101 [==============================] - 0s 826us/step - loss: 12137.0868 - mse: 12137.0868 - mae: 100.5350\n",
      "Epoch 3/100\n",
      "101/101 [==============================] - 0s 750us/step - loss: 1860.1746 - mse: 1860.1746 - mae: 31.8906\n",
      "Epoch 4/100\n",
      "101/101 [==============================] - 0s 754us/step - loss: 671.5428 - mse: 671.5428 - mae: 19.7852\n",
      "Epoch 5/100\n",
      "101/101 [==============================] - 0s 707us/step - loss: 394.1828 - mse: 394.1828 - mae: 15.6623\n",
      "Epoch 6/100\n",
      "101/101 [==============================] - 0s 739us/step - loss: 249.4237 - mse: 249.4237 - mae: 12.4892\n",
      "Epoch 7/100\n",
      "101/101 [==============================] - 0s 847us/step - loss: 212.0424 - mse: 212.0424 - mae: 11.2940\n",
      "Epoch 8/100\n",
      "101/101 [==============================] - 0s 795us/step - loss: 185.7799 - mse: 185.7799 - mae: 10.6456\n",
      "Epoch 9/100\n",
      "101/101 [==============================] - 0s 700us/step - loss: 161.5934 - mse: 161.5934 - mae: 9.1277\n",
      "Epoch 10/100\n",
      "101/101 [==============================] - 0s 717us/step - loss: 164.8899 - mse: 164.8899 - mae: 9.1108\n",
      "Epoch 11/100\n",
      "101/101 [==============================] - 0s 754us/step - loss: 133.9560 - mse: 133.9560 - mae: 8.5292\n",
      "Epoch 12/100\n",
      "101/101 [==============================] - 0s 782us/step - loss: 110.6898 - mse: 110.6898 - mae: 7.7333\n",
      "Epoch 13/100\n",
      "101/101 [==============================] - 0s 775us/step - loss: 105.0118 - mse: 105.0118 - mae: 7.4171\n",
      "Epoch 14/100\n",
      "101/101 [==============================] - 0s 848us/step - loss: 87.3779 - mse: 87.3779 - mae: 6.8293\n",
      "Epoch 15/100\n",
      "101/101 [==============================] - 0s 828us/step - loss: 104.2118 - mse: 104.2118 - mae: 7.4510\n",
      "Epoch 16/100\n",
      "101/101 [==============================] - 0s 755us/step - loss: 92.5742 - mse: 92.5742 - mae: 7.0964\n",
      "Epoch 17/100\n",
      "101/101 [==============================] - 0s 896us/step - loss: 108.4818 - mse: 108.4818 - mae: 7.3213\n",
      "Epoch 18/100\n",
      "101/101 [==============================] - 0s 786us/step - loss: 85.1922 - mse: 85.1922 - mae: 6.4471\n",
      "Epoch 19/100\n",
      "101/101 [==============================] - 0s 788us/step - loss: 85.2635 - mse: 85.2635 - mae: 6.7100\n",
      "Epoch 20/100\n",
      "101/101 [==============================] - 0s 737us/step - loss: 85.8206 - mse: 85.8206 - mae: 6.6567\n",
      "Epoch 21/100\n",
      "101/101 [==============================] - 0s 801us/step - loss: 72.6485 - mse: 72.6485 - mae: 6.0820\n",
      "Epoch 22/100\n",
      "101/101 [==============================] - 0s 766us/step - loss: 67.8443 - mse: 67.8443 - mae: 5.9638\n",
      "Epoch 23/100\n",
      "101/101 [==============================] - 0s 931us/step - loss: 85.7447 - mse: 85.7447 - mae: 6.6227\n",
      "Epoch 24/100\n",
      "101/101 [==============================] - 0s 1ms/step - loss: 73.4052 - mse: 73.4052 - mae: 6.3777\n",
      "Epoch 25/100\n",
      "101/101 [==============================] - 0s 734us/step - loss: 66.9140 - mse: 66.9140 - mae: 5.9987\n",
      "Epoch 26/100\n",
      "101/101 [==============================] - 0s 1ms/step - loss: 68.4143 - mse: 68.4143 - mae: 6.2865\n",
      "Epoch 27/100\n",
      "101/101 [==============================] - 0s 1ms/step - loss: 75.9618 - mse: 75.9618 - mae: 6.2457\n",
      "Epoch 28/100\n",
      "101/101 [==============================] - 0s 1ms/step - loss: 56.6696 - mse: 56.6696 - mae: 5.5409\n",
      "Epoch 29/100\n",
      "101/101 [==============================] - 0s 1ms/step - loss: 62.0649 - mse: 62.0649 - mae: 5.8620\n",
      "Epoch 30/100\n",
      "101/101 [==============================] - 0s 898us/step - loss: 62.2765 - mse: 62.2765 - mae: 5.9669\n",
      "Epoch 31/100\n",
      "101/101 [==============================] - 0s 901us/step - loss: 59.6615 - mse: 59.6615 - mae: 5.6972\n",
      "Epoch 32/100\n",
      "101/101 [==============================] - 0s 965us/step - loss: 54.9914 - mse: 54.9914 - mae: 5.5726\n",
      "Epoch 33/100\n",
      "101/101 [==============================] - 0s 924us/step - loss: 53.5698 - mse: 53.5698 - mae: 5.5259\n",
      "Epoch 34/100\n",
      "101/101 [==============================] - 0s 776us/step - loss: 57.3914 - mse: 57.3914 - mae: 5.6292\n",
      "Epoch 35/100\n",
      "101/101 [==============================] - 0s 751us/step - loss: 51.1718 - mse: 51.1718 - mae: 5.4010\n",
      "Epoch 36/100\n",
      "101/101 [==============================] - 0s 881us/step - loss: 43.9945 - mse: 43.9945 - mae: 5.0905\n",
      "Epoch 37/100\n",
      "101/101 [==============================] - 0s 815us/step - loss: 56.5603 - mse: 56.5603 - mae: 5.8254\n",
      "Epoch 38/100\n",
      "101/101 [==============================] - 0s 569us/step - loss: 52.4174 - mse: 52.4174 - mae: 5.3596\n",
      "Epoch 39/100\n",
      "101/101 [==============================] - 0s 589us/step - loss: 48.3838 - mse: 48.3838 - mae: 5.2089\n",
      "Epoch 40/100\n",
      "101/101 [==============================] - 0s 573us/step - loss: 44.6661 - mse: 44.6661 - mae: 5.0529\n",
      "Epoch 41/100\n",
      "101/101 [==============================] - 0s 573us/step - loss: 49.6777 - mse: 49.6777 - mae: 5.2558\n",
      "Epoch 42/100\n",
      "101/101 [==============================] - 0s 597us/step - loss: 52.8517 - mse: 52.8517 - mae: 5.4627\n",
      "Epoch 43/100\n",
      "101/101 [==============================] - 0s 666us/step - loss: 50.9814 - mse: 50.9814 - mae: 5.3301\n",
      "Epoch 44/100\n",
      "101/101 [==============================] - 0s 576us/step - loss: 48.2729 - mse: 48.2729 - mae: 5.1977\n",
      "Epoch 45/100\n",
      "101/101 [==============================] - 0s 564us/step - loss: 46.4232 - mse: 46.4232 - mae: 5.2073\n",
      "Epoch 46/100\n",
      "101/101 [==============================] - 0s 576us/step - loss: 52.3205 - mse: 52.3205 - mae: 5.4909\n",
      "Epoch 47/100\n",
      "101/101 [==============================] - 0s 662us/step - loss: 50.0718 - mse: 50.0718 - mae: 5.3371\n",
      "Epoch 48/100\n",
      "101/101 [==============================] - 0s 1ms/step - loss: 57.0762 - mse: 57.0762 - mae: 5.6363\n",
      "Epoch 49/100\n",
      "101/101 [==============================] - 0s 784us/step - loss: 49.3149 - mse: 49.3149 - mae: 5.2558\n",
      "Epoch 50/100\n",
      "101/101 [==============================] - 0s 786us/step - loss: 41.0492 - mse: 41.0492 - mae: 4.8162\n",
      "Epoch 51/100\n",
      "101/101 [==============================] - 0s 858us/step - loss: 44.9575 - mse: 44.9575 - mae: 4.9317\n",
      "Epoch 52/100\n",
      "101/101 [==============================] - 0s 768us/step - loss: 46.5652 - mse: 46.5652 - mae: 5.1293\n",
      "Epoch 53/100\n",
      "101/101 [==============================] - 0s 938us/step - loss: 37.6513 - mse: 37.6513 - mae: 4.6094\n",
      "Epoch 54/100\n",
      "101/101 [==============================] - 0s 865us/step - loss: 45.4098 - mse: 45.4098 - mae: 5.0591\n",
      "Epoch 55/100\n",
      "101/101 [==============================] - 0s 674us/step - loss: 41.2119 - mse: 41.2119 - mae: 4.9791\n",
      "Epoch 56/100\n",
      "101/101 [==============================] - 0s 797us/step - loss: 37.2762 - mse: 37.2762 - mae: 4.7585\n",
      "Epoch 57/100\n",
      "101/101 [==============================] - 0s 857us/step - loss: 47.3214 - mse: 47.3214 - mae: 5.1725\n",
      "Epoch 58/100\n",
      "101/101 [==============================] - 0s 915us/step - loss: 41.4369 - mse: 41.4369 - mae: 4.9075\n",
      "Epoch 59/100\n",
      "101/101 [==============================] - 0s 751us/step - loss: 44.1541 - mse: 44.1541 - mae: 4.9686\n",
      "Epoch 60/100\n",
      "101/101 [==============================] - 0s 851us/step - loss: 48.7691 - mse: 48.7691 - mae: 5.2404\n",
      "Epoch 61/100\n",
      "101/101 [==============================] - 0s 871us/step - loss: 42.6917 - mse: 42.6917 - mae: 4.8012\n",
      "Epoch 62/100\n",
      "101/101 [==============================] - 0s 748us/step - loss: 48.8288 - mse: 48.8288 - mae: 5.1996\n",
      "Epoch 63/100\n",
      "101/101 [==============================] - 0s 764us/step - loss: 46.8229 - mse: 46.8229 - mae: 5.1688\n",
      "Epoch 64/100\n",
      "101/101 [==============================] - 0s 944us/step - loss: 39.2012 - mse: 39.2012 - mae: 4.8450\n",
      "Epoch 65/100\n",
      "101/101 [==============================] - 0s 809us/step - loss: 39.2172 - mse: 39.2172 - mae: 4.7246\n",
      "Epoch 66/100\n",
      "101/101 [==============================] - 0s 778us/step - loss: 40.7704 - mse: 40.7704 - mae: 4.6777\n",
      "Epoch 67/100\n",
      "101/101 [==============================] - 0s 836us/step - loss: 40.8397 - mse: 40.8397 - mae: 4.7253\n",
      "Epoch 68/100\n",
      "101/101 [==============================] - 0s 865us/step - loss: 40.8849 - mse: 40.8849 - mae: 4.7306\n",
      "Epoch 69/100\n",
      "101/101 [==============================] - 0s 810us/step - loss: 38.7652 - mse: 38.7652 - mae: 4.7378\n",
      "Epoch 70/100\n",
      "101/101 [==============================] - 0s 787us/step - loss: 37.0974 - mse: 37.0974 - mae: 4.5941\n",
      "Epoch 71/100\n",
      "101/101 [==============================] - 0s 871us/step - loss: 42.9254 - mse: 42.9254 - mae: 4.9779\n",
      "Epoch 72/100\n"
     ]
    },
    {
     "name": "stdout",
     "output_type": "stream",
     "text": [
      "101/101 [==============================] - 0s 863us/step - loss: 43.7052 - mse: 43.7052 - mae: 4.9326\n",
      "Epoch 73/100\n",
      "101/101 [==============================] - 0s 670us/step - loss: 42.9699 - mse: 42.9699 - mae: 4.9731\n",
      "Epoch 74/100\n",
      "101/101 [==============================] - 0s 715us/step - loss: 47.8139 - mse: 47.8139 - mae: 5.1366\n",
      "Epoch 75/100\n",
      "101/101 [==============================] - 0s 756us/step - loss: 36.7605 - mse: 36.7605 - mae: 4.4284\n",
      "Epoch 76/100\n",
      "101/101 [==============================] - 0s 1ms/step - loss: 39.7444 - mse: 39.7444 - mae: 4.8393\n",
      "Epoch 77/100\n",
      "101/101 [==============================] - 0s 1ms/step - loss: 41.6802 - mse: 41.6802 - mae: 4.9897\n",
      "Epoch 78/100\n",
      "101/101 [==============================] - 0s 1ms/step - loss: 35.3451 - mse: 35.3451 - mae: 4.4364\n",
      "Epoch 79/100\n",
      "101/101 [==============================] - 0s 1ms/step - loss: 39.3078 - mse: 39.3078 - mae: 4.7230\n",
      "Epoch 80/100\n",
      "101/101 [==============================] - 0s 815us/step - loss: 40.2696 - mse: 40.2696 - mae: 4.7032\n",
      "Epoch 81/100\n",
      "101/101 [==============================] - 0s 768us/step - loss: 39.7769 - mse: 39.7769 - mae: 4.9281\n",
      "Epoch 82/100\n",
      "101/101 [==============================] - 0s 833us/step - loss: 39.0986 - mse: 39.0986 - mae: 4.6566\n",
      "Epoch 83/100\n",
      "101/101 [==============================] - 0s 848us/step - loss: 43.3067 - mse: 43.3067 - mae: 4.9624\n",
      "Epoch 84/100\n",
      "101/101 [==============================] - 0s 793us/step - loss: 47.7766 - mse: 47.7766 - mae: 5.0417\n",
      "Epoch 85/100\n",
      "101/101 [==============================] - 0s 828us/step - loss: 37.3471 - mse: 37.3471 - mae: 4.4647\n",
      "Epoch 86/100\n",
      "101/101 [==============================] - 0s 830us/step - loss: 36.6795 - mse: 36.6795 - mae: 4.6155\n",
      "Epoch 87/100\n",
      "101/101 [==============================] - 0s 902us/step - loss: 39.1825 - mse: 39.1825 - mae: 4.7456\n",
      "Epoch 88/100\n",
      "101/101 [==============================] - 0s 851us/step - loss: 41.5829 - mse: 41.5829 - mae: 4.7387\n",
      "Epoch 89/100\n",
      "101/101 [==============================] - 0s 784us/step - loss: 36.3408 - mse: 36.3408 - mae: 4.4955\n",
      "Epoch 90/100\n",
      "101/101 [==============================] - 0s 794us/step - loss: 39.4023 - mse: 39.4023 - mae: 4.6568\n",
      "Epoch 91/100\n",
      "101/101 [==============================] - 0s 823us/step - loss: 38.6146 - mse: 38.6146 - mae: 4.6586\n",
      "Epoch 92/100\n",
      "101/101 [==============================] - 0s 832us/step - loss: 43.2502 - mse: 43.2502 - mae: 5.0466\n",
      "Epoch 93/100\n",
      "101/101 [==============================] - 0s 708us/step - loss: 38.1299 - mse: 38.1299 - mae: 4.5572\n",
      "Epoch 94/100\n",
      "101/101 [==============================] - 0s 756us/step - loss: 39.5588 - mse: 39.5588 - mae: 4.6457\n",
      "Epoch 95/100\n",
      "101/101 [==============================] - 0s 757us/step - loss: 37.1540 - mse: 37.1540 - mae: 4.5750\n",
      "Epoch 96/100\n",
      "101/101 [==============================] - 0s 767us/step - loss: 36.5034 - mse: 36.5034 - mae: 4.5824\n",
      "Epoch 97/100\n",
      "101/101 [==============================] - 0s 751us/step - loss: 32.8061 - mse: 32.8061 - mae: 4.4389\n",
      "Epoch 98/100\n",
      "101/101 [==============================] - 0s 796us/step - loss: 33.7192 - mse: 33.7192 - mae: 4.3934\n",
      "Epoch 99/100\n",
      "101/101 [==============================] - 0s 745us/step - loss: 41.1003 - mse: 41.1003 - mae: 4.8574\n",
      "Epoch 100/100\n",
      "101/101 [==============================] - 0s 817us/step - loss: 44.5735 - mse: 44.5735 - mae: 4.9130\n"
     ]
    },
    {
     "data": {
      "text/plain": [
       "<tensorflow.python.keras.callbacks.History at 0x7fbf46a056d0>"
      ]
     },
     "execution_count": 5,
     "metadata": {},
     "output_type": "execute_result"
    }
   ],
   "source": [
    "model.fit(X_train,y_train,batch_size = 4,epochs = 100)"
   ]
  },
  {
   "cell_type": "code",
   "execution_count": 6,
   "metadata": {},
   "outputs": [
    {
     "name": "stdout",
     "output_type": "stream",
     "text": [
      "4/4 [==============================] - 0s 1ms/step - loss: 39.0475 - mse: 39.0475 - mae: 4.5511\n"
     ]
    },
    {
     "data": {
      "text/plain": [
       "[39.047508239746094, 39.047508239746094, 4.551084518432617]"
      ]
     },
     "execution_count": 6,
     "metadata": {},
     "output_type": "execute_result"
    }
   ],
   "source": [
    "model.evaluate(X_test,y_test)"
   ]
  },
  {
   "cell_type": "code",
   "execution_count": 7,
   "metadata": {},
   "outputs": [
    {
     "name": "stdout",
     "output_type": "stream",
     "text": [
      "(102, 1)\n"
     ]
    }
   ],
   "source": [
    "y_pred = model.predict(X_test)\n",
    "print(y_pred.shape)"
   ]
  },
  {
   "cell_type": "code",
   "execution_count": 8,
   "metadata": {},
   "outputs": [
    {
     "data": {
      "text/plain": [
       "array([ 2.6400156, 19.429405 , 22.205944 , 28.004158 , 23.232763 ],\n",
       "      dtype=float32)"
      ]
     },
     "execution_count": 8,
     "metadata": {},
     "output_type": "execute_result"
    }
   ],
   "source": [
    "y_pred[:5,0]"
   ]
  },
  {
   "cell_type": "code",
   "execution_count": 9,
   "metadata": {},
   "outputs": [
    {
     "data": {
      "text/plain": [
       "array([ 7.2, 18.8, 19. , 27. , 22.2])"
      ]
     },
     "execution_count": 9,
     "metadata": {},
     "output_type": "execute_result"
    }
   ],
   "source": [
    "y_test[:5]"
   ]
  },
  {
   "cell_type": "markdown",
   "metadata": {},
   "source": [
    "## Fashion mnist"
   ]
  },
  {
   "cell_type": "code",
   "execution_count": 12,
   "metadata": {},
   "outputs": [
    {
     "name": "stdout",
     "output_type": "stream",
     "text": [
      "Downloading data from https://storage.googleapis.com/tensorflow/tf-keras-datasets/train-labels-idx1-ubyte.gz\n",
      "32768/29515 [=================================] - 0s 0us/step\n",
      "Downloading data from https://storage.googleapis.com/tensorflow/tf-keras-datasets/train-images-idx3-ubyte.gz\n",
      "26427392/26421880 [==============================] - 4s 0us/step\n",
      "Downloading data from https://storage.googleapis.com/tensorflow/tf-keras-datasets/t10k-labels-idx1-ubyte.gz\n",
      "8192/5148 [===============================================] - 0s 0us/step\n",
      "Downloading data from https://storage.googleapis.com/tensorflow/tf-keras-datasets/t10k-images-idx3-ubyte.gz\n",
      "4423680/4422102 [==============================] - 0s 0us/step\n"
     ]
    }
   ],
   "source": [
    "(X_train,y_train),(X_test,y_test) = fashion_mnist.load_data()"
   ]
  },
  {
   "cell_type": "code",
   "execution_count": 13,
   "metadata": {},
   "outputs": [],
   "source": [
    "X_train = X_train.astype(\"float\").reshape(-1,28*28)/255.0\n",
    "X_test = X_test.astype(\"float\").reshape(-1,28*28)/255.0\n",
    "\n",
    "y_train = to_categorical(y_train)\n",
    "y_test = to_categorical(y_test)"
   ]
  },
  {
   "cell_type": "code",
   "execution_count": 14,
   "metadata": {},
   "outputs": [
    {
     "data": {
      "text/plain": [
       "(10000, 784)"
      ]
     },
     "execution_count": 14,
     "metadata": {},
     "output_type": "execute_result"
    }
   ],
   "source": [
    "X_test.shape"
   ]
  },
  {
   "cell_type": "code",
   "execution_count": 15,
   "metadata": {},
   "outputs": [
    {
     "data": {
      "text/plain": [
       "(60000, 784)"
      ]
     },
     "execution_count": 15,
     "metadata": {},
     "output_type": "execute_result"
    }
   ],
   "source": [
    "X_train.shape"
   ]
  },
  {
   "cell_type": "code",
   "execution_count": 21,
   "metadata": {},
   "outputs": [],
   "source": [
    "model = Sequential()\n",
    "model.add(Dense(512,input_shape = (X_train.shape[1],),activation = \"relu\"))\n",
    "model.add(Dropout(0.5))\n",
    "model.add(Dense(512,activation = \"relu\"))\n",
    "model.add(Dropout(0.5))\n",
    "model.add(Dense(256,activation = \"relu\"))\n",
    "model.add(Dropout(0.5))\n",
    "model.add(Dense(10,activation = \"softmax\"))"
   ]
  },
  {
   "cell_type": "code",
   "execution_count": 22,
   "metadata": {},
   "outputs": [
    {
     "name": "stdout",
     "output_type": "stream",
     "text": [
      "Model: \"sequential_2\"\n",
      "_________________________________________________________________\n",
      "Layer (type)                 Output Shape              Param #   \n",
      "=================================================================\n",
      "dense_4 (Dense)              (None, 512)               401920    \n",
      "_________________________________________________________________\n",
      "dropout_2 (Dropout)          (None, 512)               0         \n",
      "_________________________________________________________________\n",
      "dense_5 (Dense)              (None, 512)               262656    \n",
      "_________________________________________________________________\n",
      "dropout_3 (Dropout)          (None, 512)               0         \n",
      "_________________________________________________________________\n",
      "dense_6 (Dense)              (None, 256)               131328    \n",
      "_________________________________________________________________\n",
      "dropout_4 (Dropout)          (None, 256)               0         \n",
      "_________________________________________________________________\n",
      "dense_7 (Dense)              (None, 10)                2570      \n",
      "=================================================================\n",
      "Total params: 798,474\n",
      "Trainable params: 798,474\n",
      "Non-trainable params: 0\n",
      "_________________________________________________________________\n"
     ]
    }
   ],
   "source": [
    "model.summary()"
   ]
  },
  {
   "cell_type": "code",
   "execution_count": 23,
   "metadata": {},
   "outputs": [],
   "source": [
    "model.compile(optimizer=\"adam\",loss = \"categorical_crossentropy\",metrics = [\"accuracy\"])"
   ]
  },
  {
   "cell_type": "code",
   "execution_count": 24,
   "metadata": {},
   "outputs": [
    {
     "name": "stdout",
     "output_type": "stream",
     "text": [
      "Epoch 1/20\n",
      "235/235 [==============================] - 4s 15ms/step - loss: 1.0691 - accuracy: 0.6101 - val_loss: 0.4638 - val_accuracy: 0.8320\n",
      "Epoch 2/20\n",
      "235/235 [==============================] - 3s 14ms/step - loss: 0.5163 - accuracy: 0.8172 - val_loss: 0.4153 - val_accuracy: 0.8504\n",
      "Epoch 3/20\n",
      "235/235 [==============================] - 3s 14ms/step - loss: 0.4544 - accuracy: 0.8389 - val_loss: 0.3985 - val_accuracy: 0.8566\n",
      "Epoch 4/20\n",
      "235/235 [==============================] - 4s 15ms/step - loss: 0.4290 - accuracy: 0.8462 - val_loss: 0.3969 - val_accuracy: 0.8502\n",
      "Epoch 5/20\n",
      "235/235 [==============================] - 3s 15ms/step - loss: 0.4231 - accuracy: 0.8490 - val_loss: 0.3827 - val_accuracy: 0.8605\n",
      "Epoch 6/20\n",
      "235/235 [==============================] - 3s 15ms/step - loss: 0.4004 - accuracy: 0.8563 - val_loss: 0.3762 - val_accuracy: 0.8622\n",
      "Epoch 7/20\n",
      "235/235 [==============================] - 3s 15ms/step - loss: 0.3833 - accuracy: 0.8599 - val_loss: 0.3657 - val_accuracy: 0.8663\n",
      "Epoch 8/20\n",
      "235/235 [==============================] - 4s 15ms/step - loss: 0.3718 - accuracy: 0.8669 - val_loss: 0.3555 - val_accuracy: 0.8692\n",
      "Epoch 9/20\n",
      "235/235 [==============================] - 4s 16ms/step - loss: 0.3686 - accuracy: 0.8665 - val_loss: 0.3589 - val_accuracy: 0.8706\n",
      "Epoch 10/20\n",
      "235/235 [==============================] - 4s 15ms/step - loss: 0.3693 - accuracy: 0.8664 - val_loss: 0.3456 - val_accuracy: 0.8725\n",
      "Epoch 11/20\n",
      "235/235 [==============================] - 4s 17ms/step - loss: 0.3527 - accuracy: 0.8724 - val_loss: 0.3416 - val_accuracy: 0.8780\n",
      "Epoch 12/20\n",
      "235/235 [==============================] - 4s 18ms/step - loss: 0.3593 - accuracy: 0.8691 - val_loss: 0.3414 - val_accuracy: 0.8737\n",
      "Epoch 13/20\n",
      "235/235 [==============================] - 4s 18ms/step - loss: 0.3397 - accuracy: 0.8755 - val_loss: 0.3459 - val_accuracy: 0.8753\n",
      "Epoch 14/20\n",
      "235/235 [==============================] - 4s 17ms/step - loss: 0.3417 - accuracy: 0.8767 - val_loss: 0.3398 - val_accuracy: 0.8769\n",
      "Epoch 15/20\n",
      "235/235 [==============================] - 4s 19ms/step - loss: 0.3369 - accuracy: 0.8769 - val_loss: 0.3397 - val_accuracy: 0.8783\n",
      "Epoch 16/20\n",
      "235/235 [==============================] - 4s 16ms/step - loss: 0.3330 - accuracy: 0.8776 - val_loss: 0.3378 - val_accuracy: 0.8767\n",
      "Epoch 17/20\n",
      "235/235 [==============================] - 4s 16ms/step - loss: 0.3341 - accuracy: 0.8784 - val_loss: 0.3301 - val_accuracy: 0.8799\n",
      "Epoch 18/20\n",
      "235/235 [==============================] - 4s 16ms/step - loss: 0.3288 - accuracy: 0.8799 - val_loss: 0.3300 - val_accuracy: 0.8802\n",
      "Epoch 19/20\n",
      "235/235 [==============================] - 4s 18ms/step - loss: 0.3304 - accuracy: 0.8802 - val_loss: 0.3379 - val_accuracy: 0.8788\n",
      "Epoch 20/20\n",
      "235/235 [==============================] - 4s 18ms/step - loss: 0.3300 - accuracy: 0.8786 - val_loss: 0.3305 - val_accuracy: 0.8806\n"
     ]
    },
    {
     "data": {
      "text/plain": [
       "<tensorflow.python.keras.callbacks.History at 0x7fbf34a5d850>"
      ]
     },
     "execution_count": 24,
     "metadata": {},
     "output_type": "execute_result"
    }
   ],
   "source": [
    "model.fit(X_train,y_train,batch_size = 256,epochs = 20,validation_data = (X_test,y_test))"
   ]
  },
  {
   "cell_type": "code",
   "execution_count": 25,
   "metadata": {},
   "outputs": [
    {
     "name": "stdout",
     "output_type": "stream",
     "text": [
      "313/313 [==============================] - 1s 2ms/step - loss: 0.3305 - accuracy: 0.8806\n"
     ]
    },
    {
     "data": {
      "text/plain": [
       "[0.3305034935474396, 0.8805999755859375]"
      ]
     },
     "execution_count": 25,
     "metadata": {},
     "output_type": "execute_result"
    }
   ],
   "source": [
    "model.evaluate(X_test,y_test)"
   ]
  },
  {
   "cell_type": "markdown",
   "metadata": {},
   "source": [
    "## Cifar 10(CNN)"
   ]
  },
  {
   "cell_type": "code",
   "execution_count": 3,
   "metadata": {},
   "outputs": [
    {
     "name": "stdout",
     "output_type": "stream",
     "text": [
      "(50000, 32, 32, 3)\n",
      "(50000, 32, 32, 3)\n"
     ]
    }
   ],
   "source": [
    "(X_train,y_train),(X_test,y_test) = cifar10.load_data()\n",
    "print(X_train.shape)\n",
    "X_train = X_train.astype(\"float\").reshape(-1,32,32,3)/255.0\n",
    "X_test = X_test.astype(\"float\").reshape(-1,32,32,3)/255.0\n",
    "print(X_train.shape)\n",
    "y_train = to_categorical(y_train)\n",
    "y_test = to_categorical(y_test)"
   ]
  },
  {
   "cell_type": "code",
   "execution_count": 4,
   "metadata": {},
   "outputs": [
    {
     "name": "stdout",
     "output_type": "stream",
     "text": [
      "(10000, 10)\n"
     ]
    }
   ],
   "source": [
    "print(y_test.shape)"
   ]
  },
  {
   "cell_type": "code",
   "execution_count": 5,
   "metadata": {},
   "outputs": [],
   "source": [
    "model = Sequential()\n",
    "model.add(Conv2D(32,(3,3),padding = \"same\",activation = \"relu\",input_shape = (32,32,3)))\n",
    "model.add(Conv2D(32,(3,3),activation = \"relu\"))\n",
    "model.add(MaxPooling2D(pool_size = (2,2)))\n",
    "model.add(Dropout(0.5))\n",
    "\n",
    "model.add(Conv2D(64,(3,3),padding = \"same\",activation = \"relu\"))\n",
    "model.add(Conv2D(64,(3,3),activation = \"relu\"))\n",
    "model.add(MaxPooling2D(pool_size = (2,2)))\n",
    "model.add(Dropout(0.5))\n",
    "\n",
    "model.add(Conv2D(64,(3,3),padding = \"same\",activation = \"relu\"))\n",
    "model.add(Conv2D(64,(3,3),activation = \"relu\"))\n",
    "model.add(MaxPooling2D(pool_size = (2,2)))\n",
    "model.add(Dropout(0.5))\n",
    "\n",
    "model.add(Flatten())\n",
    "model.add(Dense(512,activation = \"relu\"))\n",
    "model.add(Dropout(0.5))\n",
    "model.add(Dense(256,activation = \"relu\"))\n",
    "model.add(Dropout(0.5))\n",
    "\n",
    "model.add(Dense(10,activation = \"softmax\"))"
   ]
  },
  {
   "cell_type": "code",
   "execution_count": 6,
   "metadata": {},
   "outputs": [
    {
     "name": "stdout",
     "output_type": "stream",
     "text": [
      "Model: \"sequential\"\n",
      "_________________________________________________________________\n",
      "Layer (type)                 Output Shape              Param #   \n",
      "=================================================================\n",
      "conv2d (Conv2D)              (None, 32, 32, 32)        896       \n",
      "_________________________________________________________________\n",
      "conv2d_1 (Conv2D)            (None, 30, 30, 32)        9248      \n",
      "_________________________________________________________________\n",
      "max_pooling2d (MaxPooling2D) (None, 15, 15, 32)        0         \n",
      "_________________________________________________________________\n",
      "dropout (Dropout)            (None, 15, 15, 32)        0         \n",
      "_________________________________________________________________\n",
      "conv2d_2 (Conv2D)            (None, 15, 15, 64)        18496     \n",
      "_________________________________________________________________\n",
      "conv2d_3 (Conv2D)            (None, 13, 13, 64)        36928     \n",
      "_________________________________________________________________\n",
      "max_pooling2d_1 (MaxPooling2 (None, 6, 6, 64)          0         \n",
      "_________________________________________________________________\n",
      "dropout_1 (Dropout)          (None, 6, 6, 64)          0         \n",
      "_________________________________________________________________\n",
      "conv2d_4 (Conv2D)            (None, 6, 6, 64)          36928     \n",
      "_________________________________________________________________\n",
      "conv2d_5 (Conv2D)            (None, 4, 4, 64)          36928     \n",
      "_________________________________________________________________\n",
      "max_pooling2d_2 (MaxPooling2 (None, 2, 2, 64)          0         \n",
      "_________________________________________________________________\n",
      "dropout_2 (Dropout)          (None, 2, 2, 64)          0         \n",
      "_________________________________________________________________\n",
      "flatten (Flatten)            (None, 256)               0         \n",
      "_________________________________________________________________\n",
      "dense (Dense)                (None, 512)               131584    \n",
      "_________________________________________________________________\n",
      "dropout_3 (Dropout)          (None, 512)               0         \n",
      "_________________________________________________________________\n",
      "dense_1 (Dense)              (None, 256)               131328    \n",
      "_________________________________________________________________\n",
      "dropout_4 (Dropout)          (None, 256)               0         \n",
      "_________________________________________________________________\n",
      "dense_2 (Dense)              (None, 10)                2570      \n",
      "=================================================================\n",
      "Total params: 404,906\n",
      "Trainable params: 404,906\n",
      "Non-trainable params: 0\n",
      "_________________________________________________________________\n"
     ]
    }
   ],
   "source": [
    "model.summary()"
   ]
  },
  {
   "cell_type": "code",
   "execution_count": 7,
   "metadata": {},
   "outputs": [],
   "source": [
    "model.compile(optimizer=\"adam\",loss = \"categorical_crossentropy\",metrics = [\"accuracy\"])"
   ]
  },
  {
   "cell_type": "code",
   "execution_count": 8,
   "metadata": {},
   "outputs": [
    {
     "name": "stdout",
     "output_type": "stream",
     "text": [
      "Epoch 1/20\n",
      "782/782 [==============================] - 114s 143ms/step - loss: 2.0739 - accuracy: 0.1857 - val_loss: 1.6530 - val_accuracy: 0.3766\n",
      "Epoch 2/20\n",
      "782/782 [==============================] - 125s 159ms/step - loss: 1.6318 - accuracy: 0.3848 - val_loss: 1.4134 - val_accuracy: 0.4781\n",
      "Epoch 3/20\n",
      "782/782 [==============================] - 149s 191ms/step - loss: 1.4525 - accuracy: 0.4640 - val_loss: 1.2675 - val_accuracy: 0.5310\n",
      "Epoch 4/20\n",
      "782/782 [==============================] - 144s 184ms/step - loss: 1.3527 - accuracy: 0.5131 - val_loss: 1.1695 - val_accuracy: 0.5767\n",
      "Epoch 5/20\n",
      "782/782 [==============================] - 126s 161ms/step - loss: 1.2910 - accuracy: 0.5376 - val_loss: 1.2429 - val_accuracy: 0.5563\n",
      "Epoch 6/20\n",
      "782/782 [==============================] - 118s 151ms/step - loss: 1.2256 - accuracy: 0.5632 - val_loss: 1.0950 - val_accuracy: 0.6025\n",
      "Epoch 7/20\n",
      "782/782 [==============================] - 120s 153ms/step - loss: 1.2027 - accuracy: 0.5787 - val_loss: 1.1191 - val_accuracy: 0.6017\n",
      "Epoch 8/20\n",
      "782/782 [==============================] - 124s 159ms/step - loss: 1.1712 - accuracy: 0.5919 - val_loss: 1.0785 - val_accuracy: 0.6164\n",
      "Epoch 9/20\n",
      "782/782 [==============================] - 122s 155ms/step - loss: 1.1384 - accuracy: 0.5995 - val_loss: 1.0113 - val_accuracy: 0.6410\n",
      "Epoch 10/20\n",
      "782/782 [==============================] - 121s 155ms/step - loss: 1.1095 - accuracy: 0.6113 - val_loss: 1.0438 - val_accuracy: 0.6339\n",
      "Epoch 11/20\n",
      "782/782 [==============================] - 132s 168ms/step - loss: 1.0814 - accuracy: 0.6218 - val_loss: 1.0716 - val_accuracy: 0.6145\n",
      "Epoch 12/20\n",
      "782/782 [==============================] - 130s 166ms/step - loss: 1.0539 - accuracy: 0.6334 - val_loss: 0.9683 - val_accuracy: 0.6540\n",
      "Epoch 13/20\n",
      "782/782 [==============================] - 130s 166ms/step - loss: 1.0482 - accuracy: 0.6376 - val_loss: 0.9426 - val_accuracy: 0.6641\n",
      "Epoch 14/20\n",
      "782/782 [==============================] - 122s 157ms/step - loss: 1.0318 - accuracy: 0.6456 - val_loss: 0.9066 - val_accuracy: 0.6849\n",
      "Epoch 15/20\n",
      "782/782 [==============================] - 122s 156ms/step - loss: 1.0068 - accuracy: 0.6488 - val_loss: 0.8953 - val_accuracy: 0.6797\n",
      "Epoch 16/20\n",
      "782/782 [==============================] - 125s 160ms/step - loss: 1.0226 - accuracy: 0.6465 - val_loss: 0.8903 - val_accuracy: 0.6946\n",
      "Epoch 17/20\n",
      "782/782 [==============================] - 122s 156ms/step - loss: 0.9964 - accuracy: 0.6576 - val_loss: 0.9642 - val_accuracy: 0.6687\n",
      "Epoch 18/20\n",
      "782/782 [==============================] - 124s 158ms/step - loss: 0.9849 - accuracy: 0.6641 - val_loss: 0.8562 - val_accuracy: 0.7017\n",
      "Epoch 19/20\n",
      "782/782 [==============================] - 126s 162ms/step - loss: 0.9675 - accuracy: 0.6652 - val_loss: 0.9133 - val_accuracy: 0.6843\n",
      "Epoch 20/20\n",
      "782/782 [==============================] - 121s 155ms/step - loss: 0.9632 - accuracy: 0.6696 - val_loss: 0.8642 - val_accuracy: 0.6971\n"
     ]
    },
    {
     "data": {
      "text/plain": [
       "<tensorflow.python.keras.callbacks.History at 0x7ff6f97044d0>"
      ]
     },
     "execution_count": 8,
     "metadata": {},
     "output_type": "execute_result"
    }
   ],
   "source": [
    "model.fit(X_train,y_train,batch_size = 64,epochs = 20,validation_data = (X_test,y_test))"
   ]
  },
  {
   "cell_type": "code",
   "execution_count": null,
   "metadata": {},
   "outputs": [],
   "source": [
    "model.evaluate(X_test,y_test)"
   ]
  }
 ],
 "metadata": {
  "kernelspec": {
   "display_name": "Python 3",
   "language": "python",
   "name": "python3"
  },
  "language_info": {
   "codemirror_mode": {
    "name": "ipython",
    "version": 3
   },
   "file_extension": ".py",
   "mimetype": "text/x-python",
   "name": "python",
   "nbconvert_exporter": "python",
   "pygments_lexer": "ipython3",
   "version": "3.7.6"
  }
 },
 "nbformat": 4,
 "nbformat_minor": 4
}
